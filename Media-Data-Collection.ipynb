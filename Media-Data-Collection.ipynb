{
 "cells": [
  {
   "cell_type": "code",
   "execution_count": 6,
   "id": "4c4c06a8-8862-4bb1-861c-b2861334682c",
   "metadata": {},
   "outputs": [],
   "source": [
    "import pandas as pd\n",
    "import asyncio\n",
    "from playwright.async_api import async_playwright\n",
    "from bs4 import BeautifulSoup"
   ]
  },
  {
   "cell_type": "code",
   "execution_count": 7,
   "id": "65af28e5-cb27-4425-aad1-966937a07399",
   "metadata": {},
   "outputs": [],
   "source": [
    "cnn_news18_urls = ['https://mattw.io/youtube-metadata/bulk?url=https%3A%2F%2Fwww.youtube.com%2Fplaylist%3Flist%3DPL3HhMTCWB-e_FA-VkkE_gn-JbOVWfklql&submit=true', 'https://mattw.io/youtube-metadata/bulk?url=https%3A%2F%2Fwww.youtube.com%2Fplaylist%3Flist%3DPL3HhMTCWB-e85pgFqwJsVY4xZLJ8AGEXm&submit=true']\n",
    "\n",
    "india_today_urls = ['https://mattw.io/youtube-metadata/bulk?url=https%3A%2F%2Fwww.youtube.com%2Fplaylist%3Flist%3DPLPPKwCCueQ_D5cWX0nXVweeH38UJvOgL_&submit=true', 'https://mattw.io/youtube-metadata/bulk?url=https%3A%2F%2Fwww.youtube.com%2Fplaylist%3Flist%3DPLPPKwCCueQ_D27xa5TpbAJAFdAVrtJzF-&submit=true']\n",
    "\n",
    "times_now_urls = ['https://mattw.io/youtube-metadata/bulk?url=https%3A%2F%2Fwww.youtube.com%2Fplaylist%3Flist%3DPLAQGzpyU01aGFm2vdV58Qbee1KhWf2GXG&submit=true', 'https://mattw.io/youtube-metadata/bulk?url=https%3A%2F%2Fwww.youtube.com%2Fplaylist%3Flist%3DPLAQGzpyU01aHWS5V4228Zmru3ws3NC4Uc&submit=true']\n",
    "\n",
    "ndtv_24x7_urls = ['https://mattw.io/youtube-metadata/bulk?url=https%3A%2F%2Fwww.youtube.com%2Fplaylist%3Flist%3DPLYSfYVdrOZvjRkIkqBd3jiN9ymojEFSlM&submit=true', 'https://mattw.io/youtube-metadata/bulk?url=https%3A%2F%2Fwww.youtube.com%2Fplaylist%3Flist%3DPLYSfYVdrOZviugUdqb5WV7nZHePN9bV3O&submit=true']"
   ]
  },
  {
   "cell_type": "code",
   "execution_count": 8,
   "id": "20fa69ea-ca38-4d59-a0bb-22134838c308",
   "metadata": {},
   "outputs": [
    {
     "name": "stderr",
     "output_type": "stream",
     "text": [
      "/var/folders/dx/cmdq4sfx6b9813jxhrr5337m0000gn/T/ipykernel_53432/1570932624.py:15: FutureWarning: Passing literal html to 'read_html' is deprecated and will be removed in a future version. To read from a literal string, wrap it in a 'StringIO' object.\n",
      "  df = pd.read_html(table_html[0].prettify())\n"
     ]
    },
    {
     "name": "stdout",
     "output_type": "stream",
     "text": [
      "ndtv_24x7_table1.csv saved.\n",
      "ndtv_24x7_table2.csv saved.\n"
     ]
    },
    {
     "name": "stderr",
     "output_type": "stream",
     "text": [
      "/var/folders/dx/cmdq4sfx6b9813jxhrr5337m0000gn/T/ipykernel_53432/1570932624.py:15: FutureWarning: Passing literal html to 'read_html' is deprecated and will be removed in a future version. To read from a literal string, wrap it in a 'StringIO' object.\n",
      "  df = pd.read_html(table_html[0].prettify())\n"
     ]
    }
   ],
   "source": [
    "# Replace 'your_url_here' with the URL of the webpage you want to scrape\n",
    "count = 0\n",
    "for url in ndtv_24x7_urls:\n",
    "    count = count + 1\n",
    "    playwright = await async_playwright().start()\n",
    "    browser = await playwright.chromium.launch(headless=False)\n",
    "    page = await browser.new_page()\n",
    "    await page.goto(url)\n",
    "    await page.wait_for_timeout(200000)  # Wait for 200 seconds\n",
    "    await page.select_option('select[name=\"videosTable_length\"]', '-1')\n",
    "    page_content = await page.content()\n",
    "    await browser.close()\n",
    "    soup = BeautifulSoup(page_content, \"html.parser\")\n",
    "    table_html = soup.select('#videosTable')\n",
    "    df = pd.read_html(table_html[0].prettify())\n",
    "    table_filename = f'ndtv_24x7_table{str(count)}.csv'\n",
    "    df[0].to_csv(table_filename)\n",
    "    print(f'{table_filename} saved.')"
   ]
  },
  {
   "cell_type": "code",
   "execution_count": null,
   "id": "7019e5a2-74de-4c4b-8f8e-c09ab6ced69f",
   "metadata": {},
   "outputs": [],
   "source": []
  }
 ],
 "metadata": {
  "kernelspec": {
   "display_name": "Python 3 (ipykernel)",
   "language": "python",
   "name": "python3"
  },
  "language_info": {
   "codemirror_mode": {
    "name": "ipython",
    "version": 3
   },
   "file_extension": ".py",
   "mimetype": "text/x-python",
   "name": "python",
   "nbconvert_exporter": "python",
   "pygments_lexer": "ipython3",
   "version": "3.11.6"
  }
 },
 "nbformat": 4,
 "nbformat_minor": 5
}
